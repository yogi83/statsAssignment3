{
 "cells": [
  {
   "cell_type": "code",
   "execution_count": 4,
   "id": "46813b93",
   "metadata": {},
   "outputs": [
    {
     "name": "stdout",
     "output_type": "stream",
     "text": [
      "computed value of z_score is : 3.2\n",
      "critical region is from -1.9599639845400545 to 1.9599639845400545\n"
     ]
    }
   ],
   "source": [
    "'''Blood glucose levels for obese patients have a mean of 100 with a standard deviation of\n",
    "15. A researcher thinks that a diet high in raw cornstarch will have a positive effect on \n",
    "blood glucose levels. A sample of 36 patients who have tried the raw cornstarch diet \n",
    "have a mean glucose level of 108. Test the hypothesis that the raw cornstarch had an \n",
    "effect or not.'''\n",
    "\n",
    "p_mean = 100\n",
    "p_std = 15\n",
    "n = 36\n",
    "s_mean = 108\n",
    "\n",
    "import numpy as np\n",
    "import math as math\n",
    "import scipy.stats as stats\n",
    "\n",
    "z_score = (s_mean - p_mean)/(p_std/math.sqrt(n))\n",
    "print(f\"computed value of z_score is : {z_score}\")\n",
    "\n",
    "# as no significance level is given , we assume it as 0.05 \n",
    "alpha = 0.05\n",
    "\n",
    "print(f'critical region is from {stats.norm.ppf(alpha/2)} to {-stats.norm.ppf(alpha/2)}')"
   ]
  },
  {
   "cell_type": "markdown",
   "id": "87d1fc42",
   "metadata": {},
   "source": [
    "so the value of computed z score is out of critical region, so we reject the null hypothesis, hence the cornstarch has effect"
   ]
  },
  {
   "cell_type": "code",
   "execution_count": 2,
   "id": "a9f73172",
   "metadata": {},
   "outputs": [
    {
     "name": "stdout",
     "output_type": "stream",
     "text": [
      "the diffrence in proportion of republicans is : 0.050000000000000044\n",
      "\n",
      "the standard deviation of republican is : 0.07061869440877536\n",
      " the value of z is : -0.7080278164104213\n"
     ]
    }
   ],
   "source": [
    "'''Problem Statement 2:\n",
    "In one state, 52% of the voters are Republicans, and 48% are Democrats. In a second \n",
    "state, 47% of the voters are Republicans, and 53% are Democrats. Suppose a simple \n",
    "random sample of 100 voters are surveyed from each state.\n",
    "What is the probability that the survey will show a greater percentage of Republican \n",
    "voters in the second state than in the first state? '''\n",
    "\n",
    "#proportion of republicans in 1 state :\n",
    "p1 = .52\n",
    "\n",
    "#proportion of republicans in 2nd state :\n",
    "p2 = .47\n",
    "\n",
    "# let n1 & n2 be the sample size for both states , so\n",
    "n1 = 100\n",
    "n2 = 100\n",
    "\n",
    "# diffrence in proportion of republicans in both states \n",
    "d = p1 - p2\n",
    "print(f'the diffrence in proportion of republicans is : {d}')\n",
    "print()\n",
    "# standard deviation of the proportion of republicans in both states \n",
    "import math as math\n",
    "\n",
    "s = math.sqrt(( p1*(1-p1)/n1 ) + ( p2*(1-p2)/n2 ))\n",
    "print(f'the standard deviation of republican is : {s}')\n",
    "\n",
    "# if we assume that in survey, republicans of 2nd state have more percentage than that of 1st state, then \n",
    "# diffrence in their proportions must be less than zero which means that value of diffrence corrosponds to zero means p = 0\n",
    "p= 0\n",
    "z = (p - d)/s\n",
    "\n",
    "print(f' the value of z is : {z}')\n"
   ]
  },
  {
   "cell_type": "markdown",
   "id": "9a84505c",
   "metadata": {},
   "source": [
    "by seeing the standard normal distribution z table , the value of z is -0.70 corrosponds to p value 0.239\n",
    "so we can say that the probablity that survey will show greater percentage of republican is 0.24 ie. 24%"
   ]
  },
  {
   "cell_type": "code",
   "execution_count": 1,
   "id": "f7641977",
   "metadata": {},
   "outputs": [
    {
     "name": "stdout",
     "output_type": "stream",
     "text": [
      "our z score is : 0.35406698564593303\n"
     ]
    }
   ],
   "source": [
    "'''Problem Statement 3:\n",
    "You take the SAT and score 1100. The mean score for the SAT is 1026 and the standard deviation is 209.\n",
    "How well did you score on the test compared to the average test taker?'''\n",
    "\n",
    "p_mean = 1026\n",
    "p_std = 209\n",
    "s_mean = 1100\n",
    "\n",
    "z = (s_mean - p_mean)/p_std\n",
    "\n",
    "print(f'our z score is : {z}')\n"
   ]
  },
  {
   "cell_type": "markdown",
   "id": "706b20a9",
   "metadata": {},
   "source": [
    "as our z value is 0.35, it means we have performed .35 % more than the average test taker"
   ]
  }
 ],
 "metadata": {
  "kernelspec": {
   "display_name": "Python 3",
   "language": "python",
   "name": "python3"
  },
  "language_info": {
   "codemirror_mode": {
    "name": "ipython",
    "version": 3
   },
   "file_extension": ".py",
   "mimetype": "text/x-python",
   "name": "python",
   "nbconvert_exporter": "python",
   "pygments_lexer": "ipython3",
   "version": "3.8.8"
  }
 },
 "nbformat": 4,
 "nbformat_minor": 5
}
